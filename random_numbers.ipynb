{
 "cells": [
  {
   "cell_type": "code",
   "execution_count": 1,
   "id": "ebdba853",
   "metadata": {},
   "outputs": [],
   "source": [
    "# Import the random module.\n",
    "import random \n",
    "\n"
   ]
  },
  {
   "cell_type": "code",
   "execution_count": 2,
   "id": "9849ad17",
   "metadata": {},
   "outputs": [
    {
     "data": {
      "text/plain": [
       "0.4079135389327805"
      ]
     },
     "execution_count": 2,
     "metadata": {},
     "output_type": "execute_result"
    }
   ],
   "source": [
    "random.random()"
   ]
  },
  {
   "cell_type": "code",
   "execution_count": 3,
   "id": "b2c5f302",
   "metadata": {},
   "outputs": [
    {
     "data": {
      "text/plain": [
       "-15"
      ]
     },
     "execution_count": 3,
     "metadata": {},
     "output_type": "execute_result"
    }
   ],
   "source": [
    "random.randint(-90, 90) \n"
   ]
  },
  {
   "cell_type": "code",
   "execution_count": 4,
   "id": "c42b801e",
   "metadata": {},
   "outputs": [],
   "source": [
    "x = 1\n",
    "latitudes = []\n",
    "while x < 11:\n",
    "    random_lat = random.randint(-90, 89) + random.random()\n",
    "    latitudes.append(random_lat)\n",
    "    x += 1"
   ]
  },
  {
   "cell_type": "code",
   "execution_count": 5,
   "id": "d2c9d35d",
   "metadata": {},
   "outputs": [
    {
     "data": {
      "text/plain": [
       "-84"
      ]
     },
     "execution_count": 5,
     "metadata": {},
     "output_type": "execute_result"
    }
   ],
   "source": [
    "random.randrange(-90, 90, step=1)"
   ]
  },
  {
   "cell_type": "code",
   "execution_count": 6,
   "id": "72574bd4",
   "metadata": {},
   "outputs": [
    {
     "data": {
      "text/plain": [
       "39"
      ]
     },
     "execution_count": 6,
     "metadata": {},
     "output_type": "execute_result"
    }
   ],
   "source": [
    "random.randrange(-90, 90, step=3)"
   ]
  },
  {
   "cell_type": "code",
   "execution_count": 7,
   "id": "0920e8df",
   "metadata": {},
   "outputs": [
    {
     "data": {
      "text/plain": [
       "-43.130817711800574"
      ]
     },
     "execution_count": 7,
     "metadata": {},
     "output_type": "execute_result"
    }
   ],
   "source": [
    "random.uniform(-90, 90)"
   ]
  },
  {
   "cell_type": "code",
   "execution_count": 8,
   "id": "4f5b157f",
   "metadata": {},
   "outputs": [],
   "source": [
    "# Import the NumPy module.\n",
    "import numpy as np"
   ]
  },
  {
   "cell_type": "code",
   "execution_count": 9,
   "id": "4b0cdbd5",
   "metadata": {},
   "outputs": [
    {
     "data": {
      "text/plain": [
       "-7.597060490842509"
      ]
     },
     "execution_count": 9,
     "metadata": {},
     "output_type": "execute_result"
    }
   ],
   "source": [
    "np.random.uniform(-90.000, 90.000)"
   ]
  },
  {
   "cell_type": "code",
   "execution_count": 10,
   "id": "23d1f0dd",
   "metadata": {},
   "outputs": [
    {
     "data": {
      "text/plain": [
       "19.41296438871848"
      ]
     },
     "execution_count": 10,
     "metadata": {},
     "output_type": "execute_result"
    }
   ],
   "source": [
    "np.random.uniform(low=-90, high=90)"
   ]
  },
  {
   "cell_type": "code",
   "execution_count": 11,
   "id": "43abfdad",
   "metadata": {},
   "outputs": [
    {
     "data": {
      "text/plain": [
       "array([-26.72690742,  31.45915007,  59.53028373,  -9.69166052,\n",
       "       -22.54489196,  54.03422484, -37.66914534,  41.99635639,\n",
       "       -46.52606109,  -1.78774799, -37.8360615 ,   2.39646923,\n",
       "         7.28827939,   3.22346491,  89.20406669, -18.8126381 ,\n",
       "       -27.53014445, -16.68942767,  25.49000562,  69.98168164,\n",
       "        31.42038112, -54.28890244,  -8.68253145,  52.6629527 ,\n",
       "        44.03498637,  -9.52252053, -76.57202177,  11.6658861 ,\n",
       "       -53.19709863, -43.15669067,  62.87627892,  47.87389953,\n",
       "       -11.23016867,  87.66992879,   0.79214623,  14.25468212,\n",
       "       -89.73992834, -44.45038899, -63.62543879,  44.07538668,\n",
       "        12.53772054, -61.66460734, -48.68898072,  22.31220433,\n",
       "         9.10765541,  38.73696727,   8.19643013,  16.30161431,\n",
       "       -67.0127535 ,  68.96150284])"
      ]
     },
     "execution_count": 11,
     "metadata": {},
     "output_type": "execute_result"
    }
   ],
   "source": [
    "np.random.uniform(-90.000, 90.000, size=50)"
   ]
  },
  {
   "cell_type": "code",
   "execution_count": 12,
   "id": "dc3121fe",
   "metadata": {},
   "outputs": [],
   "source": [
    "# Import timeit.\n",
    "import timeit"
   ]
  },
  {
   "cell_type": "code",
   "execution_count": 13,
   "id": "5eef3c36",
   "metadata": {},
   "outputs": [
    {
     "name": "stdout",
     "output_type": "stream",
     "text": [
      "30.1 µs ± 364 ns per loop (mean ± std. dev. of 7 runs, 10000 loops each)\n"
     ]
    }
   ],
   "source": [
    "%timeit np.random.uniform(-90.000, 90.000, size=1500)"
   ]
  },
  {
   "cell_type": "code",
   "execution_count": 19,
   "id": "b6592b39",
   "metadata": {},
   "outputs": [
    {
     "name": "stdout",
     "output_type": "stream",
     "text": [
      "3.57 ms ± 21.6 µs per loop (mean ± std. dev. of 7 runs, 100 loops each)\n"
     ]
    }
   ],
   "source": [
    "def latitudes(size):\n",
    "    latitudes = []\n",
    "    x = 0\n",
    "    while x < (size):\n",
    "        random_lat = random.randint(-90, 90) + random.random()\n",
    "        latitudes.append(random_lat)\n",
    "        x += 1\n",
    "    return latitudes\n",
    "# Call the function with 1500.\n",
    "%timeit latitudes(1500)"
   ]
  },
  {
   "cell_type": "code",
   "execution_count": 20,
   "id": "0c6cf384",
   "metadata": {},
   "outputs": [
    {
     "data": {
      "text/plain": [
       "array([  4.469202  , -23.60702765, -62.64052769, ..., -67.81330312,\n",
       "        33.93287087,  50.95352576])"
      ]
     },
     "execution_count": 20,
     "metadata": {},
     "output_type": "execute_result"
    }
   ],
   "source": [
    "np.random.uniform(-90.000, 90.000, size=1500)"
   ]
  }
 ],
 "metadata": {
  "kernelspec": {
   "display_name": "PythonData",
   "language": "python",
   "name": "pythondata"
  },
  "language_info": {
   "codemirror_mode": {
    "name": "ipython",
    "version": 3
   },
   "file_extension": ".py",
   "mimetype": "text/x-python",
   "name": "python",
   "nbconvert_exporter": "python",
   "pygments_lexer": "ipython3",
   "version": "3.7.13"
  }
 },
 "nbformat": 4,
 "nbformat_minor": 5
}
